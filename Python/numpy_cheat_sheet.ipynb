{
 "cells": [
  {
   "cell_type": "markdown",
   "metadata": {},
   "source": [
    "# NumPy Cheat Sheet\n",
    "\n",
    "<img src=\"https://bids.berkeley.edu/sites/default/files/styles/400x225/public/projects/numpy_project_page.jpg?itok=flrdydei\" title=\"numpy\" alt=\"numpy\">\n",
    "\n",
    "[NumPy](http://www.numpy.org) es el principal paquete para la computación científica con [Python](https://www.python.org/)\n",
    "\n",
    "Este cheat sheet esta orientado a una introducción de Python para Ciencia de Datos. ***Pueden contactarme [aquí](http://relopezbriega.github.io/) para cualquier tipo de sugerencias!***. Basado en la cheat sheet de [JulianGaal](https://github.com/juliangaal/python-cheat-sheet/blob/master/NumPy/NumPy.md)\n",
    "\n",
    "## Índice\n",
    "1. [Numpy básico](#basics)\n",
    "    - [Placeholders](#place)\n",
    "    - [Ejemplos](#ex)\n",
    "2. [Arrays](#arrays)\n",
    "    - [Propiedades](#props)\n",
    "    - [Copiando/Ordenando](#gops)\n",
    "      * [Ejemplos](#array-Ejemplo)\n",
    "    - [Manipulación de Arrays](#man)\n",
    "      * [Agregando/Quitando Elementos](#addrem)\n",
    "      * [Combinando Arrays](#comb)\n",
    "      * [Dividiendo Arrays](#split)\n",
    "3. [Matemáticas](#maths)\n",
    "    - [Operaciones aritméticas](#ops)\n",
    "      * [Ejemplos](#operations-Ejemplos)\n",
    "    - [Comparaciones](#comparison)\n",
    "      * [Ejemplos](#comparison-Ejemplo)\n",
    "    - [Estadística básica](#stats)\n",
    "    - [Mas](#more)\n",
    "4. [Slicing y Subsetting](#ss)\n",
    "    - [Ejemplos](#exp)\n",
    "5. [Trucos](#Trucos)\n",
    "6. [Créditos](#creds)\n",
    "\n",
    "</br>\n",
    "\n",
    "## Numpy básico <a name=\"basics\"></a>\n",
    "\n",
    "Una de las funciones más utilizadas de [NumPy](http://www.numpy.org) son los *arreglos o arrays*: La principal diferencia entre las *listas de python* y los *arrays de numpy* esta dada por la velocidad y las funcionalidades adicionales que poseen estas últimas. Las *listas* solo nos dan operaciones básicas, pero los *arrays de numpy* nos agregan FFTs, convoluciones, búsquedas rápidas, estadística, algebra lineal, histogramas, entre muchas otras.</br>\n",
    "The most important difference for data science is the ability to do **element-wise calculations** with *NumPy arrays*.\n",
    "\n",
    "`axis 0` always refers to row </br>\n",
    "`axis 1` always refers to column\n",
    "\n",
    "| Operator     | Description   | Documentation |\n",
    "| :------------- | :------------- | :--------|\n",
    "|`np.array([1,2,3])`|1d array|[link](https://docs.scipy.org/doc/numpy/reference/generated/numpy.array.html#numpy.array)|\n",
    "|`np.array([(1,2,3),(4,5,6)])`|2d array|see above|\n",
    "|`np.arange(start,stop,step)`|range array|[link](https://docs.scipy.org/doc/numpy/reference/generated/numpy.arange.html)|\n",
    "\n",
    "### Placeholders <a name=\"place\"></a>\n",
    "| Operators | Description |Documentation|\n",
    "| :------------- | :------------- |:---------- |\n",
    "|`np.linspace(0,2,9)`|Add evenly spaced values btw interval to array of length |[link](https://docs.scipy.org/doc/numpy/reference/generated/numpy.linspace.html)|\n",
    "|`np.zeros((1,2))`|Create and array filled with zeros|[link](https://docs.scipy.org/doc/numpy/reference/generated/numpy.zeros.html)|\n",
    "|`np.ones((1,2))`|Creates an array filled with ones|[link](https://docs.scipy.org/doc/numpy/reference/generated/numpy.ones.html#numpy.ones)|\n",
    "|`np.random.random((5,5))`|Creates random array|[link](https://docs.scipy.org/doc/numpy/reference/generated/numpy.random.random.html)|\n",
    "|`np.empty((2,2))`|Creates an empty array|[link](https://docs.scipy.org/doc/numpy/reference/generated/numpy.empty.html)|\n",
    "\n",
    "### Ejemplos <a name=\"ex\"></a>\n",
    "\n",
    "\n"
   ]
  },
  {
   "cell_type": "code",
   "execution_count": 2,
   "metadata": {
    "collapsed": true
   },
   "outputs": [],
   "source": [
    "import numpy as np"
   ]
  },
  {
   "cell_type": "code",
   "execution_count": 3,
   "metadata": {},
   "outputs": [
    {
     "data": {
      "text/plain": [
       "(array([1, 2, 3]), array([[1, 2, 3],\n",
       "        [4, 5, 6]]))"
      ]
     },
     "execution_count": 3,
     "metadata": {},
     "output_type": "execute_result"
    }
   ],
   "source": [
    "# 1 dimension\n",
    "x = np.array([1,2,3])\n",
    "# 2 dimensiones\n",
    "y = np.array([(1,2,3),(4,5,6)])\n",
    "x, y"
   ]
  },
  {
   "cell_type": "code",
   "execution_count": 4,
   "metadata": {},
   "outputs": [
    {
     "data": {
      "text/plain": [
       "array([0, 1, 2])"
      ]
     },
     "execution_count": 4,
     "metadata": {},
     "output_type": "execute_result"
    }
   ],
   "source": [
    "# con int\n",
    "x = np.arange(3)\n",
    "x"
   ]
  },
  {
   "cell_type": "code",
   "execution_count": 5,
   "metadata": {},
   "outputs": [
    {
     "data": {
      "text/plain": [
       "array([ 0.,  1.,  2.])"
      ]
     },
     "execution_count": 5,
     "metadata": {},
     "output_type": "execute_result"
    }
   ],
   "source": [
    "# con float\n",
    "y = np.arange(3.0)\n",
    "y"
   ]
  },
  {
   "cell_type": "code",
   "execution_count": 6,
   "metadata": {},
   "outputs": [
    {
     "data": {
      "text/plain": [
       "array([3, 4, 5, 6])"
      ]
     },
     "execution_count": 6,
     "metadata": {},
     "output_type": "execute_result"
    }
   ],
   "source": [
    "# rango\n",
    "x = np.arange(3,7)\n",
    "x"
   ]
  },
  {
   "cell_type": "code",
   "execution_count": 7,
   "metadata": {},
   "outputs": [
    {
     "data": {
      "text/plain": [
       "array([3, 5])"
      ]
     },
     "execution_count": 7,
     "metadata": {},
     "output_type": "execute_result"
    }
   ],
   "source": [
    "# rango con intervalo\n",
    "y = np.arange(3,7,2)\n",
    "y"
   ]
  },
  {
   "cell_type": "markdown",
   "metadata": {},
   "source": [
    "## Array <a name=\"arrays\"></a>\n",
    "### Array Propiedades <a name=\"props\"></a>\n",
    "|Syntax|Description|Documentation|\n",
    "|:-------------|:-------------|:-----------|\n",
    "|`array.shape`|Dimensions (Rows,Columns)|[link](https://docs.scipy.org/doc/numpy/reference/generated/numpy.ndarray.shape.html)|\n",
    "|`len(array)`|Length of Array|[link](https://docs.python.org/3.5/library/functions.html#len)|\n",
    "|`array.ndim`|Number of Array Dimensions|[link](https://docs.scipy.org/doc/numpy/reference/generated/numpy.ndarray.ndim.html)|\n",
    "|`array.size`|Number of Array Elementos|[link](https://docs.scipy.org/doc/numpy/reference/generated/numpy.ndarray.size.html)|\n",
    "|`array.dtype`|Data Type|[link](https://docs.scipy.org/doc/numpy/reference/arrays.dtypes.html)|\n",
    "|`array.astype(type)`|Converts to Data Type|[link](https://docs.scipy.org/doc/numpy/reference/generated/numpy.ndarray.astype.html)|\n",
    "|`type(array)`|Type of Array|[link](https://docs.scipy.org/doc/numpy/user/basics.types.html)|\n",
    "\n",
    "### Copiando/Ordenando <a name=\"grops\"></a>\n",
    "| Operators | Descriptions     | Documentation |\n",
    "| :------------- | :------------- | :----------- |\n",
    "|`np.copy(array)`|Creates copy of array|[link](https://docs.scipy.org/doc/numpy/reference/generated/numpy.copy.html)|\n",
    "|`other = array.copy()`|Creates deep copy of array|see above|\n",
    "|`array.sort()`|Sorts an array|[link](https://docs.scipy.org/doc/numpy/reference/generated/numpy.sort.html)|\n",
    "|`array.sort(axis=0)`|Sorts axis of array|see above|\n",
    "\n",
    "#### Ejemplos <a name=\"array-Ejemplo\"></a>"
   ]
  },
  {
   "cell_type": "code",
   "execution_count": 9,
   "metadata": {},
   "outputs": [
    {
     "data": {
      "text/plain": [
       "array([ 1,  2,  3,  4,  5,  6,  7,  8,  9, 10])"
      ]
     },
     "execution_count": 9,
     "metadata": {},
     "output_type": "execute_result"
    }
   ],
   "source": [
    "# Ordenar. Ordenar en orde ascendente\n",
    "y = np.array([10, 9, 8, 7, 6, 5, 4, 3, 2, 1])\n",
    "y.sort()\n",
    "y"
   ]
  },
  {
   "cell_type": "markdown",
   "metadata": {},
   "source": [
    "## Array Manipulation Routines <a name=\"man\"></a>\n",
    "\n",
    "### Adding or Removing Elementos <a name=\"addrem\"></a>\n",
    "|Operator|Description|Documentation|\n",
    "|:-----------|:--------|:---------|\n",
    "|`np.append(a,b)`|Append items to array|[link](https://docs.scipy.org/doc/numpy/reference/generated/numpy.append.html)|\n",
    "|`np.insert(array, 1, 2, axis)`|Insert items into array at axis 0 or 1|[link](https://docs.scipy.org/doc/numpy/reference/generated/numpy.insert.html)|\n",
    "|`array.resize((2,4))`|Resize array to shape(2,4)|[link](https://docs.scipy.org/doc/numpy/reference/generated/numpy.resize.html)|\n",
    "|`np.delete(array,1,axis)`|Deletes items from array|[link](https://docs.scipy.org/doc/numpy/reference/generated/numpy.delete.html)|\n",
    "\n",
    "### Combining Arrays <a name=\"comb\"></a>\n",
    "|Operator|Description|Documentation|\n",
    "|:---------|:-------|:---------|\n",
    "|`np.concatenate((a,b),axis=0)`|Concatenates 2 arrays, adds to end|[link](https://docs.scipy.org/doc/numpy/reference/generated/numpy.concatenate.html)|\n",
    "|`np.vstack((a,b))`|Stack array row-wise|[link](https://docs.scipy.org/doc/numpy/reference/generated/numpy.vstack.html)|\n",
    "|`np.hstack((a,b))`|Stack array column wise|[link](https://docs.scipy.org/doc/numpy/reference/generated/numpy.hstack.html#numpy.hstack)|\n",
    "\n",
    "### Splitting Arrays <a name=\"split\"></a>\n",
    "|Operator|Description|Documentation|\n",
    "|:---------|:-------|:------|\n",
    "|`numpy.split()`||[link](https://docs.scipy.org/doc/numpy/reference/generated/numpy.split.html)|\n",
    "|`np.array_split(array, 3)`|Split an array in sub-arrays of (nearly) identical size|[link](https://docs.scipy.org/doc/numpy/reference/generated/numpy.array_split.html#numpy.array_split)|\n",
    "|`numpy.hsplit(array, 3)`|Split the array horizontally at 3rd index|[link](https://docs.scipy.org/doc/numpy/reference/generated/numpy.hsplit.html#numpy.hsplit)|\n",
    "\n",
    "\n",
    "### More <a name=\"more\"></a>\n",
    "|Operator|Description|Documentation|\n",
    "|:--------|:--------|:--------|\n",
    "|`other = ndarray.flatten()`|Flattens a 2d array to 1d|[link](https://docs.scipy.org/doc/numpy/reference/generated/numpy.ndarray.flatten.html)|\n",
    "|`array = np.transpose(other)`</br> `array.T` |Transpose array|[link](https://docs.scipy.org/doc/numpy/reference/generated/numpy.transpose.html)|\n",
    "\n",
    "</br>\n",
    "\n",
    "## Matemáticas <a name=\"maths\"></a>\n",
    "\n",
    "### Operations <a name=\"ops\"></a>\n",
    "| Operator | Description     |Documentation|\n",
    "| :------------- | :------------- |:---------|\n",
    "|`np.add(x,y)`|Addition|[link](https://docs.scipy.org/doc/numpy/reference/generated/numpy.add.html)|\n",
    "|`np.substract(x,y)`|Subtraction|[link](https://docs.scipy.org/doc/numpy/reference/generated/numpy.subtract.html#numpy.subtract)|\n",
    "|`np.divide(x,y)`|Division|[link](https://docs.scipy.org/doc/numpy/reference/generated/numpy.divide.html#numpy.divide)|\n",
    "|`np.multiply(x,y)`|Multiplication|[link](https://docs.scipy.org/doc/numpy/reference/generated/numpy.multiply.html#numpy.multiply)|\n",
    "|`np.sqrt(x)`|Square Root|[link](https://docs.scipy.org/doc/numpy/reference/generated/numpy.sqrt.html#numpy.sqrt)|\n",
    "|`np.sin(x)`|Element-wise sine|[link](https://docs.scipy.org/doc/numpy/reference/generated/numpy.sin.html#numpy.sin)|\n",
    "|`np.cos(x)`|Element-wise cosine|[link](https://docs.scipy.org/doc/numpy/reference/generated/numpy.cos.html#numpy.cos)|\n",
    "|`np.log(x)`|Element-wise natural log|[link](https://docs.scipy.org/doc/numpy/reference/generated/numpy.log.html#numpy.log)|\n",
    "|`np.dot(x,y)`|Dot product|[link](https://docs.scipy.org/doc/numpy/reference/generated/numpy.dot.html)|\n",
    "\n",
    "Remember: NumPy array operations work element-wise.\n",
    "\n",
    "#### Ejemplo <a name=\"operations-Ejemplos\"></a>"
   ]
  },
  {
   "cell_type": "code",
   "execution_count": 10,
   "metadata": {},
   "outputs": [
    {
     "name": "stdout",
     "output_type": "stream",
     "text": [
      "[[2 4 6]\n",
      " [5 7 9]]\n"
     ]
    }
   ],
   "source": [
    "# Si un array de 1d es sumada a otra de 2d, Numpy elije \n",
    "# la array con dimensión más pequeña y la suma con la de\n",
    "# dimensión más grande\n",
    "a = np.array([1, 2, 3])\n",
    "b = np.array([(1, 2, 3), (4, 5, 6)])\n",
    "print(np.add(a, b))"
   ]
  },
  {
   "cell_type": "markdown",
   "metadata": {},
   "source": [
    "### Comparison\n",
    "| Operator | Description | Documentation |\n",
    "| :------------- | :------------- |:---------|\n",
    "|`==`|Equal|[link](https://docs.python.org/2/library/stdtypes.html)|\n",
    "|`!=`|Not equal|[link](https://docs.python.org/2/library/stdtypes.html)|\n",
    "|`<`|Smaller than|[link](https://docs.python.org/2/library/stdtypes.html)|\n",
    "|`>`|Greater than|[link](https://docs.python.org/2/library/stdtypes.html)|\n",
    "|`<=`|Smaller than or equal|[link](https://docs.python.org/2/library/stdtypes.html)|\n",
    "|`>=`|Greater than or equal|[link](https://docs.python.org/2/library/stdtypes.html)|\n",
    "|`np.array_equal(x,y)`|Array-wise comparison|[link](https://docs.scipy.org/doc/numpy/reference/generated/numpy.array_equal.html)|\n",
    "\n",
    "#### Ejemplo <a name=\"comparison-Ejemplo\"></a>\n",
    "```python\n",
    "# Using comparison operators will create boolean NumPy arrays\n",
    "z = np.array([1, 2, 3, 4, 5, 6, 7, 8, 9, 10])\n",
    "c = z < 6\n",
    "print(c)\n",
    ">>> [ True  True  True  True  True False False False False False]\n",
    "```\n",
    "### Basic Statistics <a name=\"stats\"></a>\n",
    "| Operator | Description    | Documentation |\n",
    "| :------------- | :------------- |:--------- |\n",
    "|`array.mean()`</br>`np.mean(array)`|Mean|[link](https://docs.scipy.org/doc/numpy/reference/generated/numpy.mean.html#numpy.mean)|\n",
    "|`np.median(array)`|Median|[link](https://docs.scipy.org/doc/numpy/reference/generated/numpy.median.html#numpy.median)|\n",
    "|`array.corrcoef()`|Correlation Coefficient|[link](https://docs.scipy.org/doc/numpy/reference/generated/numpy.corrcoef.html#numpy.corrcoef)|\n",
    "|`array.std(array)`|Standard Deviation|[link](https://docs.scipy.org/doc/numpy/reference/generated/numpy.std.html#numpy.std)|\n",
    "\n",
    "### More <a name=\"more\"></a>\n",
    "| Operator | Description    | Documentation |\n",
    "| :------------- | :------------- |:--------- |\n",
    "|`array.sum()`|Array-wise sum|[link](https://docs.scipy.org/doc/numpy/reference/generated/numpy.sum.html)|\n",
    "|`array.min()`|Array-wise minimum value|[link](https://docs.scipy.org/doc/numpy/reference/generated/numpy.ndarray.min.html)|\n",
    "|`array.max(axis=0)`|Maximum value of specified axis||\n",
    "|`array.cumsum(axis=0)`|Cumulative sum of specified axis|[link](https://docs.scipy.org/doc/numpy/reference/generated/numpy.cumsum.html)|\n",
    "\n",
    "</br>\n",
    "\n",
    "## Slicing and Subsetting <a name=\"ss\"></a>\n",
    "|Operator|Description|Documentation|\n",
    "| :------------- | :------------- | :------------- |\n",
    "|`array[i]`|1d array at index i|[link](https://docs.scipy.org/doc/numpy/reference/arrays.indexing.html)|\n",
    "|`array[i,j]`|2d array at index[i][j]|see above|\n",
    "|`array[i<4]`|Boolean Indexing, see [Trucos](#Trucos)|see above|\n",
    "|`array[0:3]`|Select items of index 0, 1 and 2|see above|\n",
    "|`array[0:2,1]`|Select items of rows 0 and 1 at column 1|see above|\n",
    "|`array[:1]`|Select items of row 0 (equals array[0:1, :])|see above|\n",
    "|`array[1:2, :]`|Select items of row 1|see above|\n",
    "[comment]: <> (|`array[1,...]`|equals array[1,:,:]|see above|)\n",
    "|`array[ : :-1]`|Reverses `array`|see above|\n",
    "\n",
    "\n",
    "#### Ejemplos <a name\"exp\"></a>\n",
    "```python\n",
    "b = np.array([(1, 2, 3), (4, 5, 6)])\n",
    "\n",
    "# The index *before* the comma refers to *rows*,\n",
    "# the index *after* the comma refers to *columns*\n",
    "print(b[0:1, 2])\n",
    ">>> [3]\n",
    "\n",
    "print(b[:len(b), 2])\n",
    ">>> [3 6]\n",
    "\n",
    "print(b[0, :])\n",
    ">>> [1 2 3]\n",
    "\n",
    "print(b[0, 2:])\n",
    ">>> [3]\n",
    "\n",
    "print(b[:, 0])\n",
    ">>> [1 4]\n",
    "\n",
    "c = np.array([(1, 2, 3), (4, 5, 6)])\n",
    "d = c[1:2, 0:2]\n",
    "print(d)\n",
    ">>> [[4 5]]\n",
    "\n",
    "```\n",
    "\n",
    "</br>\n",
    "\n",
    "## Trucos <a name=\"Trucos\"></a>\n",
    "This is a growing list of Ejemplos. Know a good trick? Let me know [here](twitter.com/JulianGaal) or fork it and create a pull request.\n",
    "\n",
    "*boolean indexing* (available as separate `.py` file [here](https://github.com/JulianGaal/python-cheat-sheet/blob/master/code/boolean-indexing.py)\n",
    "```python\n",
    "# Index trick when working with two np-arrays\n",
    "a = np.array([1,2,3,6,1,4,1])\n",
    "b = np.array([5,6,7,8,3,1,2])\n",
    "\n",
    "# Only saves a at index where b == 1\n",
    "other_a = a[b == 1]\n",
    "#Saves every spot in a except at index where b != 1\n",
    "other_other_a = a[b != 1]\n",
    "```\n",
    "\n",
    "```python\n",
    "x = np.array([4,6,8,1,2,6,9])\n",
    "y = x > 5\n",
    "print(x[y])\n",
    ">>> [6 8 6 9]\n",
    "\n",
    "# Even shorter\n",
    "x = np.array([1, 2, 3, 4, 4, 35, 212, 5, 5, 6])\n",
    "print(x[x < 5])\n",
    ">>> [1 2 3 4 4]\n",
    "\n",
    "```\n",
    "\n",
    "</br>\n",
    "\n",
    "## Creditos <a name=\"creds\"></a>\n",
    "[Datacamp](https://www.datacamp.com/home),\n",
    "[Quandl](https://s3.amazonaws.com/quandl-static-content/Documents/Quandl+-+Pandas,+SciPy,+NumPy+Cheat+Sheet.pdf) y [Official docs](https://docs.scipy.org/doc/numpy/)"
   ]
  },
  {
   "cell_type": "code",
   "execution_count": null,
   "metadata": {
    "collapsed": true
   },
   "outputs": [],
   "source": []
  },
  {
   "cell_type": "code",
   "execution_count": null,
   "metadata": {
    "collapsed": true
   },
   "outputs": [],
   "source": []
  },
  {
   "cell_type": "code",
   "execution_count": null,
   "metadata": {
    "collapsed": true
   },
   "outputs": [],
   "source": []
  }
 ],
 "metadata": {
  "kernelspec": {
   "display_name": "Python 3",
   "language": "python",
   "name": "python3"
  },
  "language_info": {
   "codemirror_mode": {
    "name": "ipython",
    "version": 3
   },
   "file_extension": ".py",
   "mimetype": "text/x-python",
   "name": "python",
   "nbconvert_exporter": "python",
   "pygments_lexer": "ipython3",
   "version": "3.5.2"
  }
 },
 "nbformat": 4,
 "nbformat_minor": 2
}
